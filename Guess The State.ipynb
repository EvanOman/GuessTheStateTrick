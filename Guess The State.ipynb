{
 "cells": [
  {
   "cell_type": "code",
   "execution_count": 3,
   "metadata": {
    "collapsed": false
   },
   "outputs": [
    {
     "data": {
      "text/plain": [
       "\u001b[32mimport \u001b[36mscala.collection.mutable.MutableList\u001b[0m\n",
       "defined \u001b[32mfunction \u001b[36mrunAnalysis\u001b[0m"
      ]
     },
     "metadata": {},
     "output_type": "display_data"
    }
   ],
   "source": [
    "import scala.collection.mutable.MutableList\n",
    "def runAnalysis(): Unit = //(List[String], List[String], List[String]) = \n",
    "{\n",
    "    /* List of states to check */\n",
    "    val states = Seq(\"Alabama\", \"Alaska\", \"Arizona\", \"Arkansas\", \"California\", \"Colorado\", \"Connecticut\", \"Delaware\", \"Florida\",\n",
    "                 \"Georgia\", \"Hawaii\", \"Idaho\", \"Illinois\", \"Indiana\", \"Iowa\", \"Kansas\", \"Kentucky\", \"Louisiana\", \"Maine\", \n",
    "                 \"Maryland\", \"Massachusetts\", \"Michigan\", \"Minnesota\", \"Mississippi\", \"Missouri\", \"Montana\", \"Nebraska\", \n",
    "                 \"Nevada\", \"New Hampshire\", \"New Jersey\", \"New Mexico\", \"New York\", \"North Carolina\", \"North Dakota\", \n",
    "                 \"Ohio\", \"Oklahoma\", \"Oregon\", \"Pennsylvania\", \"Rhode Island\", \"South Carolina\", \"South Dakota\", \"Tennessee\",\n",
    "                 \"Texas\", \"Utah\", \"Vermont\", \"Virginia\", \"Washington\", \"West Virginia\", \"Wisconsin\", \"Wyoming\")\n",
    "\n",
    "    /* List of (distinct) letters associated with each color */\n",
    "    val redChars = List('a', 'y', 'd', 'o', 's', 't', 'e', 'i', 'y', 'd', 'n').distinct\n",
    "    val whiteChars = List('b', 'f', 'h', 'h', 'w', 'k', 'l', 'p', 'r', 'v', 'z').distinct\n",
    "    val blueChars = List('c', 'g', 'x', 'j', 'm', 'q', 'u', 'x', 'c', 'h').distinct\n",
    "\n",
    "    /* Map each final letter to its state for fun */\n",
    "    val stateMap = collection.mutable.Map[Char, MutableList[String]]()\n",
    "\n",
    "    /* Initialially maps each char to an empty, mutable list*/\n",
    "    ('a' to 'z').foreach(stateMap(_) = MutableList())\n",
    "\n",
    "    /* Populates charMap with the last letter counts */\n",
    "    states.foreach(state => stateMap(state.toList.takeRight(1)(0)) += state)\n",
    "\n",
    "    /* Now we can count the number of states associated with each color */\n",
    "    val redStates = redChars.map(stateMap).reduce(_++_).distinct.toList.sorted\n",
    "    val whiteStates = whiteChars.map(stateMap).reduce(_++_).distinct.toList.sorted\n",
    "    val blueStates = blueChars.map(stateMap).reduce(_++_).distinct.toList.sorted\n",
    "    \n",
    "    val redCount = redStates.size\n",
    "    val whiteCount = whiteStates.size\n",
    "    val blueCount = blueStates.size\n",
    "\n",
    "    /* Now we can see which states are associated with each color: */\n",
    "    println(s\"There are $redCount Red States, they are:\\n$redStates\\n\\n\")\n",
    "    println(s\"There are $whiteCount White States, they are:\\n$whiteStates\\n\\n\")\n",
    "    println(s\"There are $blueCount Blue States, they are:\\n$blueStates\\n\\n\")\n",
    "}"
   ]
  },
  {
   "cell_type": "code",
   "execution_count": 4,
   "metadata": {
    "collapsed": false
   },
   "outputs": [
    {
     "name": "stdout",
     "output_type": "stream",
     "text": [
      "There are 47 Red States, they are:\n",
      "List(Alabama, Alaska, Arizona, Arkansas, California, Colorado, Connecticut, Delaware, Florida, Georgia, Hawaii, Idaho, Illinois, Indiana, Iowa, Kansas, Kentucky, Louisiana, Maine, Maryland, Massachusetts, Michigan, Minnesota, Mississippi, Missouri, Montana, Nebraska, Nevada, New Hampshire, New Jersey, New Mexico, North Carolina, North Dakota, Ohio, Oklahoma, Oregon, Pennsylvania, Rhode Island, South Carolina, South Dakota, Tennessee, Texas, Vermont, Virginia, Washington, West Virginia, Wisconsin)\n",
      "\n",
      "\n",
      "There are 2 White States, they are:\n",
      "List(New York, Utah)\n",
      "\n",
      "\n",
      "There are 2 Blue States, they are:\n",
      "List(Utah, Wyoming)\n",
      "\n",
      "\n"
     ]
    },
    {
     "data": {
      "text/plain": []
     },
     "metadata": {},
     "output_type": "display_data"
    }
   ],
   "source": [
    "runAnalysis()"
   ]
  }
 ],
 "metadata": {
  "kernelspec": {
   "display_name": "Scala 2.11",
   "language": "scala211",
   "name": "scala211"
  },
  "language_info": {
   "codemirror_mode": "text/x-scala",
   "file_extension": ".scala",
   "mimetype": "text/x-scala",
   "name": "scala211",
   "pygments_lexer": "scala",
   "version": "2.11.8"
  }
 },
 "nbformat": 4,
 "nbformat_minor": 0
}
