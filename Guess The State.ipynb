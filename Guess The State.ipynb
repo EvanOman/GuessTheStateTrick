vim: set filetype=scala:
{
 "cells": [
  {
   "cell_type": "code",
   "execution_count": 1,
   "metadata": {
    "collapsed": false
   },
   "outputs": [
    {
     "data": {
      "text/plain": [
       "\u001b[32mimport \u001b[36mscala.collection.mutable.MutableList\u001b[0m\n",
       "defined \u001b[32mfunction \u001b[36mrunAnalysis\u001b[0m"
      ]
     },
     "metadata": {},
     "output_type": "display_data"
    }
   ],
   "source": [
    "import scala.collection.mutable.MutableList\n",
    "def runAnalysis(): Unit =\n",
    "{\n",
    "    /* List of all 50 States */\n",
    "    val states = Seq(\"Alabama\", \"Alaska\", \"Arizona\", \"Arkansas\", \"California\", \"Colorado\", \"Connecticut\", \"Delaware\", \"Florida\",\"Georgia\", \"Hawaii\", \"Idaho\", \"Illinois\", \"Indiana\", \"Iowa\", \"Kansas\", \"Kentucky\", \"Louisiana\", \"Maine\", \"Maryland\", \"Massachusetts\", \"Michigan\", \"Minnesota\", \"Mississippi\", \"Missouri\", \"Montana\", \"Nebraska\", \"Nevada\", \"New Hampshire\", \"New Jersey\", \"New Mexico\", \"New York\", \"North Carolina\", \"North Dakota\", \"Ohio\", \"Oklahoma\", \"Oregon\", \"Pennsylvania\", \"Rhode Island\", \"South Carolina\", \"South Dakota\", \"Tennessee\", \"Texas\", \"Utah\", \"Vermont\", \"Virginia\", \"Washington\", \"West Virginia\", \"Wisconsin\", \"Wyoming\")\n",
    "\n",
    "    /* These are the (distinct) letters associated with each color from Rick's video */\n",
    "    val redChars = List('a', 'y', 'd', 'o', 's', 't', 'e', 'i', 'y', 'd', 'n').distinct\n",
    "    val whiteChars = List('b', 'f', 'h', 'h', 'w', 'k', 'l', 'p', 'r', 'v', 'z').distinct\n",
    "    val blueChars = List('c', 'g', 'x', 'j', 'm', 'q', 'u', 'x', 'c', 'h').distinct\n",
    "\n",
    "    /* \n",
    "        The \"stateMap\" object will be a mapping from characters to states with that character\n",
    "        as the last letter\n",
    "        For example, stateMap('y') will eventually contain List(\"Kentucky\", \"New Jersey\"),\n",
    "        the states that end in a 'y'\n",
    "    */\n",
    "    val stateMap = collection.mutable.Map[Char, MutableList[String]]()\n",
    "\n",
    "    /*\n",
    "        We will initialize stateMap by setting each element of the alphabet to an empty List\n",
    "        So right now now stateMap('y') will contain List(), an empty list\n",
    "    */\n",
    "    ('a' to 'z').foreach(stateMap(_) = MutableList())\n",
    "\n",
    "    /* \n",
    "        Populates the stateMap by adding each state to list corresponding to its final char\n",
    "        The final char is obtained by the bit: state.charAt(state.size - 1)\n",
    "    */\n",
    "    states.foreach(state => stateMap(state.charAt(state.size - 1)) += state)\n",
    "    \n",
    "    /* \n",
    "        Filters out letters with no associated state-ending, prints them\n",
    "            - Scala stores maps as collections of (k, v) tuples, this filter removes (k, v) \n",
    "            pairs where the second element, corresponding to the list of states, is empty\n",
    "            - We then map each (k, v) tuple to just k, the key (ie the character)\n",
    "            - Thus we are getting those keys which map to a non-empty list\n",
    "    */\n",
    "    val stateLastLetters = stateMap.filter(x => x._2.size > 0).map(x => x._1).toList.sorted\n",
    "    val numLastLetters = stateLastLetters.size\n",
    "    println(s\"All 50 states share the same $numLastLetters final letters: $stateLastLetters\\n\\n\")\n",
    "\n",
    "    /*\n",
    "        Now we can aggregate the states associated with each color\n",
    "            - Here the List.map function plugs each element of the list into the stateMap, \n",
    "            returning the list of states for each char in the red/white/blue collections\n",
    "            - After the map operation we have a list of lists, the List.reduce(_++_) simply \n",
    "            combines this list of lists into a single lists (by concatenating them all together)\n",
    "            - We then use List.distinct to remove duplicates and then use List.sorted to sort\n",
    "            the states alphabetically\n",
    "    */\n",
    "    val redStates = redChars.map(stateMap).reduce(_++_).distinct.toList.sorted\n",
    "    val whiteStates = whiteChars.map(stateMap).reduce(_++_).distinct.toList.sorted\n",
    "    val blueStates = blueChars.map(stateMap).reduce(_++_).distinct.toList.sorted\n",
    "    \n",
    "    /* Grabs the number of states associated with each color */\n",
    "    val redCount = redStates.size\n",
    "    val whiteCount = whiteStates.size\n",
    "    val blueCount = blueStates.size\n",
    "\n",
    "    /* Now we print out the states are associated with each color: */\n",
    "    println(s\"There are $redCount Red States, they are:\\n$redStates\\n\\n\")\n",
    "    println(s\"There are $whiteCount White States, they are:\\n$whiteStates\\n\\n\")\n",
    "    println(s\"There are $blueCount Blue States, they are:\\n$blueStates\\n\\n\")\n",
    "}"
   ]
  },
  {
   "cell_type": "code",
   "execution_count": 2,
   "metadata": {
    "collapsed": false
   },
   "outputs": [
    {
     "name": "stdout",
     "output_type": "stream",
     "text": [
      "All 50 states share the same 12 final letters: List(a, d, e, g, h, i, k, n, o, s, t, y)\n",
      "\n",
      "\n",
      "There are 47 Red States, they are:\n",
      "List(Alabama, Alaska, Arizona, Arkansas, California, Colorado, Connecticut, Delaware, Florida, Georgia, Hawaii, Idaho, Illinois, Indiana, Iowa, Kansas, Kentucky, Louisiana, Maine, Maryland, Massachusetts, Michigan, Minnesota, Mississippi, Missouri, Montana, Nebraska, Nevada, New Hampshire, New Jersey, New Mexico, North Carolina, North Dakota, Ohio, Oklahoma, Oregon, Pennsylvania, Rhode Island, South Carolina, South Dakota, Tennessee, Texas, Vermont, Virginia, Washington, West Virginia, Wisconsin)\n",
      "\n",
      "\n",
      "There are 2 White States, they are:\n",
      "List(New York, Utah)\n",
      "\n",
      "\n",
      "There are 2 Blue States, they are:\n",
      "List(Utah, Wyoming)\n",
      "\n",
      "\n"
     ]
    },
    {
     "data": {
      "text/plain": []
     },
     "metadata": {},
     "output_type": "display_data"
    }
   ],
   "source": [
    "runAnalysis()"
   ]
  },
  {
   "cell_type": "code",
   "execution_count": 3,
   "metadata": {
    "collapsed": false
   },
   "outputs": [
    {
     "data": {
      "text/plain": [
       "\u001b[32mimport \u001b[36mscala.collection.mutable.MutableList\u001b[0m\n",
       "defined \u001b[32mfunction \u001b[36mrunAnalysis2\u001b[0m"
      ]
     },
     "metadata": {},
     "output_type": "display_data"
    }
   ],
   "source": [
    "/* Condensed version */\n",
    "import scala.collection.mutable.MutableList\n",
    "def runAnalysis2(): Unit =\n",
    "{\n",
    "    /* List of states to check */\n",
    "    val states = Seq(\"Alabama\", \"Alaska\", \"Arizona\", \"Arkansas\", \"California\", \"Colorado\", \"Connecticut\", \"Delaware\", \"Florida\",\n",
    "                 \"Georgia\", \"Hawaii\", \"Idaho\", \"Illinois\", \"Indiana\", \"Iowa\", \"Kansas\", \"Kentucky\", \"Louisiana\", \"Maine\", \n",
    "                 \"Maryland\", \"Massachusetts\", \"Michigan\", \"Minnesota\", \"Mississippi\", \"Missouri\", \"Montana\", \"Nebraska\", \n",
    "                 \"Nevada\", \"New Hampshire\", \"New Jersey\", \"New Mexico\", \"New York\", \"North Carolina\", \"North Dakota\", \n",
    "                 \"Ohio\", \"Oklahoma\", \"Oregon\", \"Pennsylvania\", \"Rhode Island\", \"South Carolina\", \"South Dakota\", \"Tennessee\",\n",
    "                 \"Texas\", \"Utah\", \"Vermont\", \"Virginia\", \"Washington\", \"West Virginia\", \"Wisconsin\", \"Wyoming\")\n",
    "\n",
    "    /* List of (distinct) letters associated with each color */\n",
    "    val redChars = List('a', 'y', 'd', 'o', 's', 't', 'e', 'i', 'y', 'd', 'n').distinct\n",
    "    val whiteChars = List('b', 'f', 'h', 'h', 'w', 'k', 'l', 'p', 'r', 'v', 'z').distinct\n",
    "    val blueChars = List('c', 'g', 'x', 'j', 'm', 'q', 'u', 'x', 'c', 'h').distinct\n",
    "\n",
    "    /* A map/dictionary to facillitate our last letter -> state mapping */\n",
    "    val stateMap = collection.mutable.Map[Char, MutableList[String]]()\n",
    "\n",
    "    /* Initialially maps each char to an empty, mutable list*/\n",
    "    ('a' to 'z').foreach(stateMap(_) = MutableList())\n",
    "\n",
    "    /* Populates the state map by mapping each state to its last char */\n",
    "    states.foreach(state => stateMap(state.toList.takeRight(1)(0)) += state)\n",
    "    \n",
    "    /* Figures out how many different final chars there are */\n",
    "    val stateLastLetters = stateMap.filter(x => x._2.size > 0).map(x => x._1).toList.sorted\n",
    "    val numLastLetters = stateLastLetters.size\n",
    "    println(s\"All 50 states share the same $numLastLetters final letters: $stateLastLetters\\n\\n\")\n",
    "\n",
    "    /* Now we can aggregate the states associated with each color */\n",
    "    val redStates = redChars.map(stateMap).reduce(_++_).distinct.toList.sorted\n",
    "    val whiteStates = whiteChars.map(stateMap).reduce(_++_).distinct.toList.sorted\n",
    "    val blueStates = blueChars.map(stateMap).reduce(_++_).distinct.toList.sorted\n",
    "    \n",
    "    val redCount = redStates.size\n",
    "    val whiteCount = whiteStates.size\n",
    "    val blueCount = blueStates.size\n",
    "\n",
    "    /* Now we can see which states are associated with each color: */\n",
    "    println(s\"There are $redCount Red States, they are:\\n$redStates\\n\\n\")\n",
    "    println(s\"There are $whiteCount White States, they are:\\n$whiteStates\\n\\n\")\n",
    "    println(s\"There are $blueCount Blue States, they are:\\n$blueStates\\n\\n\")\n",
    "}"
   ]
  }
 ],
 "metadata": {
  "kernelspec": {
   "display_name": "Scala 2.11",
   "language": "scala211",
   "name": "scala211"
  },
  "language_info": {
   "codemirror_mode": "text/x-scala",
   "file_extension": ".scala",
   "mimetype": "text/x-scala",
   "name": "scala211",
   "pygments_lexer": "scala",
   "version": "2.11.8"
  }
 },
 "nbformat": 4,
 "nbformat_minor": 0
}
